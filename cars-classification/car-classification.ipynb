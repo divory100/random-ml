{
 "cells": [
  {
   "attachments": {},
   "cell_type": "markdown",
   "id": "cda06a83",
   "metadata": {},
   "source": [
    "# Car Classification using Stanford Cars Dataset"
   ]
  },
  {
   "cell_type": "code",
   "execution_count": 1,
   "id": "dd1578dd-cad3-447a-bb32-97635a6567c7",
   "metadata": {
    "tags": []
   },
   "outputs": [],
   "source": [
    "from cv2 import imread, imwrite, waitKey\n",
    "from scipy import io as spio"
   ]
  },
  {
   "attachments": {},
   "cell_type": "markdown",
   "id": "ba5409ee",
   "metadata": {},
   "source": [
    "##### 1. Load and match car metadata with images"
   ]
  },
  {
   "cell_type": "code",
   "execution_count": 2,
   "id": "0f8f7ff4-2300-483c-9d00-07e89fd5a65a",
   "metadata": {
    "tags": []
   },
   "outputs": [],
   "source": [
    "car_metadata = spio.loadmat(\"cardata/cars_meta.mat\")[\"class_names\"]\n",
    "car_train_raw = spio.loadmat(\"cardata/cars_train.mat\")[\"annotations\"]\n",
    "car_test_raw = spio.loadmat(\"cardata/cars_test.mat\")[\"annotations\"]\n",
    "\n",
    "#train/test metadata: [box x1, box y1, box x2, box y2, classnum, filename]"
   ]
  },
  {
   "cell_type": "code",
   "execution_count": 3,
   "id": "995fafba-35e8-4c3e-bb27-37980e29321f",
   "metadata": {},
   "outputs": [],
   "source": [
    "#minimal prep work required for the data as just need to load the metadata and match it up with the images\n",
    "car_classes = [x[0] for x in car_metadata[0]]\n",
    "\n",
    "car_train = {\n",
    "    car[5][0]: car_classes[car[4][0][0]-1] for car in car_train_raw[0]\n",
    "} #class gives num not index therefore -1\n",
    "\n",
    "car_test = {\n",
    "    car[5][0]: car_classes[car[4][0][0]-1] for car in car_test_raw[0]\n",
    "}\n",
    "\n",
    "#format: {\"xxxxx.jpg\": \"Make Model Year\"}"
   ]
  },
  {
   "attachments": {},
   "cell_type": "markdown",
   "id": "fb347cd0",
   "metadata": {},
   "source": [
    "##### 2. Crop the car images to remove unnecessary background"
   ]
  },
  {
   "cell_type": "code",
   "execution_count": 5,
   "id": "4007c4f3-9629-4976-9f51-458479957a0f",
   "metadata": {
    "tags": []
   },
   "outputs": [],
   "source": [
    "#crop car images to only include the relevant bit, not background stuff\n",
    "for car in car_train_raw[0]:\n",
    "    x1, y1, x2, y2 = car[0][0][0], car[1][0][0], car[2][0][0], car[3][0][0]\n",
    "    path = f\"cardata/cars_train/{car[5][0]}\"\n",
    "    \n",
    "    image = imread(path)\n",
    "    crop = image[y1:y2, x1:x2]\n",
    "    \n",
    "    imwrite(path, crop)\n",
    "    waitKey(0)\n",
    "    \n",
    "for car in car_test_raw[0]:\n",
    "    x1, y1, x2, y2 = car[0][0][0], car[1][0][0], car[2][0][0], car[3][0][0]\n",
    "    path = f\"cardata/cars_test/{car[5][0]}\"\n",
    "    \n",
    "    image = imread(path)\n",
    "    crop = image[y1:y2, x1:x2]\n",
    "    \n",
    "    imwrite(path, crop)\n",
    "    waitKey(0)"
   ]
  },
  {
   "attachments": {},
   "cell_type": "markdown",
   "id": "d5db5c87-45c7-4b82-a93b-696b6d9aea0a",
   "metadata": {},
   "source": [
    "##### todo:\n",
    "- normalize the data/rescale to small\n",
    "- predict with epochs\n",
    "- hyperparameter tuning"
   ]
  },
  {
   "attachments": {},
   "cell_type": "markdown",
   "id": "de8a061a",
   "metadata": {},
   "source": [
    "##### 3. Normalize the image data"
   ]
  },
  {
   "cell_type": "code",
   "execution_count": null,
   "id": "6ba3d75c-2c8e-4746-a552-701e2ddbf822",
   "metadata": {},
   "outputs": [],
   "source": []
  }
 ],
 "metadata": {
  "kernelspec": {
   "display_name": "Python 3 (ipykernel)",
   "language": "python",
   "name": "python3"
  },
  "language_info": {
   "codemirror_mode": {
    "name": "ipython",
    "version": 3
   },
   "file_extension": ".py",
   "mimetype": "text/x-python",
   "name": "python",
   "nbconvert_exporter": "python",
   "pygments_lexer": "ipython3",
   "version": "3.10.6"
  }
 },
 "nbformat": 4,
 "nbformat_minor": 5
}
