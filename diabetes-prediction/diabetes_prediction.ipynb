{
 "cells": [
  {
   "attachments": {},
   "cell_type": "markdown",
   "id": "e5e95a40",
   "metadata": {},
   "source": [
    "# Diabetes classification"
   ]
  },
  {
   "cell_type": "code",
   "execution_count": 19,
   "id": "57a494d8-c7ca-43e0-9594-d8861a24bec6",
   "metadata": {},
   "outputs": [],
   "source": [
    "import numpy\n",
    "import pandas\n",
    "import random\n",
    "\n",
    "#models\n",
    "from sklearn.ensemble import RandomForestClassifier, GradientBoostingClassifier\n",
    "from sklearn.linear_model import LogisticRegression\n",
    "from sklearn.neighbors import KNeighborsClassifier\n",
    "from sklearn.svm import SVC\n",
    "from sklearn.dummy import DummyClassifier\n",
    "\n",
    "#utils\n",
    "from sklearn.model_selection import train_test_split, RandomizedSearchCV\n",
    "from sklearn.metrics import roc_auc_score, accuracy_score, confusion_matrix, classification_report\n",
    "from sklearn.preprocessing import StandardScaler, PolynomialFeatures\n",
    "\n",
    "#fixing imbalance, for method 2 below\n",
    "from imblearn.pipeline import Pipeline\n",
    "from imblearn.over_sampling import SMOTE\n",
    "from imblearn.under_sampling import RandomUnderSampler\n",
    "\n",
    "#warnings\n",
    "import warnings\n",
    "warnings.simplefilter(action=\"ignore\", category=FutureWarning)\n",
    "warnings.simplefilter(action=\"ignore\", category=UserWarning)"
   ]
  },
  {
   "cell_type": "code",
   "execution_count": 20,
   "id": "0b1ad981-09a5-487d-9fc2-8103a8788b4d",
   "metadata": {
    "tags": []
   },
   "outputs": [
    {
     "data": {
      "text/html": [
       "<div>\n",
       "<style scoped>\n",
       "    .dataframe tbody tr th:only-of-type {\n",
       "        vertical-align: middle;\n",
       "    }\n",
       "\n",
       "    .dataframe tbody tr th {\n",
       "        vertical-align: top;\n",
       "    }\n",
       "\n",
       "    .dataframe thead th {\n",
       "        text-align: right;\n",
       "    }\n",
       "</style>\n",
       "<table border=\"1\" class=\"dataframe\">\n",
       "  <thead>\n",
       "    <tr style=\"text-align: right;\">\n",
       "      <th></th>\n",
       "      <th>gender</th>\n",
       "      <th>age</th>\n",
       "      <th>hypertension</th>\n",
       "      <th>heart_disease</th>\n",
       "      <th>bmi</th>\n",
       "      <th>HbA1c_level</th>\n",
       "      <th>blood_glucose_level</th>\n",
       "      <th>smoking_history_current</th>\n",
       "      <th>smoking_history_ever</th>\n",
       "      <th>smoking_history_former</th>\n",
       "      <th>smoking_history_never</th>\n",
       "      <th>smoking_history_not current</th>\n",
       "      <th>diabetes</th>\n",
       "    </tr>\n",
       "  </thead>\n",
       "  <tbody>\n",
       "    <tr>\n",
       "      <th>0</th>\n",
       "      <td>0</td>\n",
       "      <td>0.003458</td>\n",
       "      <td>0</td>\n",
       "      <td>0</td>\n",
       "      <td>0.002846</td>\n",
       "      <td>0.003201</td>\n",
       "      <td>0.003076</td>\n",
       "      <td>False</td>\n",
       "      <td>False</td>\n",
       "      <td>True</td>\n",
       "      <td>False</td>\n",
       "      <td>False</td>\n",
       "      <td>0</td>\n",
       "    </tr>\n",
       "    <tr>\n",
       "      <th>1</th>\n",
       "      <td>0</td>\n",
       "      <td>0.002726</td>\n",
       "      <td>0</td>\n",
       "      <td>0</td>\n",
       "      <td>0.005184</td>\n",
       "      <td>0.003258</td>\n",
       "      <td>0.002768</td>\n",
       "      <td>False</td>\n",
       "      <td>False</td>\n",
       "      <td>False</td>\n",
       "      <td>True</td>\n",
       "      <td>False</td>\n",
       "      <td>0</td>\n",
       "    </tr>\n",
       "    <tr>\n",
       "      <th>2</th>\n",
       "      <td>1</td>\n",
       "      <td>0.002859</td>\n",
       "      <td>0</td>\n",
       "      <td>0</td>\n",
       "      <td>0.003073</td>\n",
       "      <td>0.003651</td>\n",
       "      <td>0.003076</td>\n",
       "      <td>False</td>\n",
       "      <td>False</td>\n",
       "      <td>False</td>\n",
       "      <td>True</td>\n",
       "      <td>False</td>\n",
       "      <td>0</td>\n",
       "    </tr>\n",
       "    <tr>\n",
       "      <th>3</th>\n",
       "      <td>1</td>\n",
       "      <td>0.003192</td>\n",
       "      <td>0</td>\n",
       "      <td>0</td>\n",
       "      <td>0.003116</td>\n",
       "      <td>0.001966</td>\n",
       "      <td>0.003405</td>\n",
       "      <td>False</td>\n",
       "      <td>False</td>\n",
       "      <td>False</td>\n",
       "      <td>True</td>\n",
       "      <td>False</td>\n",
       "      <td>0</td>\n",
       "    </tr>\n",
       "    <tr>\n",
       "      <th>4</th>\n",
       "      <td>0</td>\n",
       "      <td>0.002793</td>\n",
       "      <td>0</td>\n",
       "      <td>0</td>\n",
       "      <td>0.004459</td>\n",
       "      <td>0.003258</td>\n",
       "      <td>0.001867</td>\n",
       "      <td>False</td>\n",
       "      <td>False</td>\n",
       "      <td>False</td>\n",
       "      <td>True</td>\n",
       "      <td>False</td>\n",
       "      <td>0</td>\n",
       "    </tr>\n",
       "  </tbody>\n",
       "</table>\n",
       "</div>"
      ],
      "text/plain": [
       "   gender       age  hypertension  heart_disease       bmi  HbA1c_level   \n",
       "0       0  0.003458             0              0  0.002846     0.003201  \\\n",
       "1       0  0.002726             0              0  0.005184     0.003258   \n",
       "2       1  0.002859             0              0  0.003073     0.003651   \n",
       "3       1  0.003192             0              0  0.003116     0.001966   \n",
       "4       0  0.002793             0              0  0.004459     0.003258   \n",
       "\n",
       "   blood_glucose_level  smoking_history_current  smoking_history_ever   \n",
       "0             0.003076                    False                 False  \\\n",
       "1             0.002768                    False                 False   \n",
       "2             0.003076                    False                 False   \n",
       "3             0.003405                    False                 False   \n",
       "4             0.001867                    False                 False   \n",
       "\n",
       "   smoking_history_former  smoking_history_never  smoking_history_not current   \n",
       "0                    True                  False                        False  \\\n",
       "1                   False                   True                        False   \n",
       "2                   False                   True                        False   \n",
       "3                   False                   True                        False   \n",
       "4                   False                   True                        False   \n",
       "\n",
       "   diabetes  \n",
       "0         0  \n",
       "1         0  \n",
       "2         0  \n",
       "3         0  \n",
       "4         0  "
      ]
     },
     "execution_count": 20,
     "metadata": {},
     "output_type": "execute_result"
    }
   ],
   "source": [
    "#load cleaned and rebalanced dataset: requires diabetes_eda.ipynb to be run first. For use with predictions method 1 below\n",
    "df = pandas.read_csv(\"diabetes-dataset-overunder.csv\", index_col=0)\n",
    "df.head(5)"
   ]
  },
  {
   "attachments": {},
   "cell_type": "markdown",
   "id": "34265b86",
   "metadata": {},
   "source": [
    "##### 1. Split into train and test sets"
   ]
  },
  {
   "cell_type": "code",
   "execution_count": 21,
   "id": "177bb8f1-437c-4178-af65-95d245ced8b1",
   "metadata": {},
   "outputs": [],
   "source": [
    "#split into independent variables and target\n",
    "X, y = df.drop(columns=\"diabetes\"), df.loc[:, \"diabetes\"]\n",
    "\n",
    "#training and test sets\n",
    "X_train, X_test, y_train, y_test = train_test_split(\n",
    "    X,\n",
    "    y,\n",
    "    test_size=0.25,\n",
    "    random_state=40,\n",
    "    shuffle=True\n",
    ")"
   ]
  },
  {
   "attachments": {},
   "cell_type": "markdown",
   "id": "a773dd7b",
   "metadata": {},
   "source": [
    "##### 2. Predictions"
   ]
  },
  {
   "cell_type": "code",
   "execution_count": 22,
   "id": "c67ac288-3352-4841-b4dd-d0639767b4ab",
   "metadata": {
    "tags": []
   },
   "outputs": [],
   "source": [
    "seed = random.randint(1, 5)\n",
    "\n",
    "ml_models = [\n",
    "    (\"SVM\", SVC(random_state=seed)),\n",
    "    (\"Random Forest\", RandomForestClassifier(random_state=seed)),\n",
    "    (\"K Nearest Neighbours\", KNeighborsClassifier()),\n",
    "    (\"Gradient Boosting\", GradientBoostingClassifier(random_state=seed)),\n",
    "    (\"Logistic Regression\", LogisticRegression(random_state=seed)),\n",
    "    (\"Dummy Classifier\", DummyClassifier())\n",
    "]"
   ]
  },
  {
   "cell_type": "code",
   "execution_count": 23,
   "id": "78f5f0fc-a8fe-44a4-aeb3-27ba372f15ec",
   "metadata": {
    "tags": []
   },
   "outputs": [
    {
     "name": "stdout",
     "output_type": "stream",
     "text": [
      "Sample of SVM predictions: [1 0 0 1 1 0 1 0 0 0]\n",
      "\n",
      "Sample of Random Forest predictions: [1 1 0 1 1 0 1 0 0 1]\n",
      "\n",
      "Sample of K Nearest Neighbours predictions: [1 1 0 1 1 0 0 0 0 0]\n",
      "\n",
      "Sample of Gradient Boosting predictions: [1 1 0 1 1 0 1 0 0 1]\n",
      "\n",
      "Sample of Logistic Regression predictions: [1 0 0 1 1 0 1 0 0 0]\n",
      "\n",
      "Sample of Dummy Classifier predictions: [0 0 0 0 0 0 0 0 0 0]\n",
      "\n",
      " -> Correct values for same sample: [0 1 0 1 1 1 1 0 0 1 ]\n"
     ]
    }
   ],
   "source": [
    "\"\"\"\n",
    "-----------\n",
    "PREDICTIONS: METHOD 1: USING THE OVERUNDER REBALANCED DATA GENERATED FROM diabetes_eda.ipynb AND SAVED TO CSV\n",
    "-----------\n",
    "\"\"\"\n",
    "results = {}\n",
    "\n",
    "for model_name, model in ml_models:\n",
    "    model.fit(X_train, y_train)\n",
    "    predictions = model.predict(X_test)\n",
    "    \n",
    "    print(f\"Sample of {model_name} predictions: {predictions[50:60]}\\n\")\n",
    "    \n",
    "    accuracy = accuracy_score(y_test, predictions)\n",
    "    roc_auc = roc_auc_score(y_test, predictions)\n",
    "    \n",
    "    results[model_name] = [accuracy, roc_auc]\n",
    "    \n",
    "s = \"\"\n",
    "for val in y_test[50:60]: s += str(val) + \" \"\n",
    "print(f\" -> Correct values for same sample: [{s}]\")"
   ]
  },
  {
   "cell_type": "code",
   "execution_count": 24,
   "id": "bbf03b20-5bd1-40c3-a61a-9101eeb1bafb",
   "metadata": {
    "tags": []
   },
   "outputs": [
    {
     "name": "stdout",
     "output_type": "stream",
     "text": [
      "SVM:\n",
      "ROC AUC score: 0.6397609041809428\n",
      "Accuracy score: 0.7323327990674632\n",
      "\n",
      "\n",
      "Random Forest:\n",
      "ROC AUC score: 0.9025086702673087\n",
      "Accuracy score: 0.9181116129972315\n",
      "\n",
      "\n",
      "K Nearest Neighbours:\n",
      "ROC AUC score: 0.8717886718653393\n",
      "Accuracy score: 0.8888241293894799\n",
      "\n",
      "\n",
      "Gradient Boosting:\n",
      "ROC AUC score: 0.9091378815060297\n",
      "Accuracy score: 0.923648550196707\n",
      "\n",
      "\n",
      "Logistic Regression:\n",
      "ROC AUC score: 0.6397609041809428\n",
      "Accuracy score: 0.7323327990674632\n",
      "\n",
      "\n",
      "Dummy Classifier:\n",
      "ROC AUC score: 0.5\n",
      "Accuracy score: 0.6637039195687018\n",
      "\n",
      "\n"
     ]
    }
   ],
   "source": [
    "for x in results:\n",
    "    print(f\"{x}:\\nROC AUC score: {results[x][1]}\\nAccuracy score: {results[x][0]}\\n\\n\")"
   ]
  },
  {
   "cell_type": "code",
   "execution_count": 25,
   "id": "f14558f7-9a2c-472d-a20b-ff5ae978a60f",
   "metadata": {},
   "outputs": [
    {
     "name": "stdout",
     "output_type": "stream",
     "text": [
      "Accuracy score: 0.94848\n",
      "ROC AUC score: 0.9003533509021234\n"
     ]
    }
   ],
   "source": [
    "\"\"\"\n",
    "-----------\n",
    "PREDICTIONS: METHOD 2: OVER/UNDERSAMPLING DATA HERE USING PIPELINE INSTEAD OF USING THE EXPORTED DATA FROM diabetes_eda.ipynb\n",
    "-----------\n",
    "\"\"\"\n",
    "\n",
    "df_2 = pandas.read_csv(\"diabetes-dataset-cleaned.csv\", index_col=0)\n",
    "\n",
    "X, y = df_2.drop(columns=\"diabetes\"), df_2.loc[:, \"diabetes\"]\n",
    "\n",
    "model = GradientBoostingClassifier()\n",
    "oversample = SMOTE(sampling_strategy=0.1)\n",
    "undersample = RandomUnderSampler(sampling_strategy=0.5)\n",
    "\n",
    "resample_steps = [(\"o\", oversample), (\"u\", undersample), (\"model\", model)]\n",
    "pipeline = Pipeline(steps=resample_steps)\n",
    "\n",
    "X_train, X_test, y_train, y_test = train_test_split(\n",
    "    X,\n",
    "    y,\n",
    "    test_size=0.25,\n",
    "    random_state=40,\n",
    "    shuffle=True\n",
    ")\n",
    "\n",
    "pipeline.fit(X_train, y_train)\n",
    "predictions = pipeline.predict(X_test)\n",
    "\n",
    "print(f\"Accuracy score: {accuracy_score(y_test, predictions)}\")\n",
    "print(f\"ROC AUC score: {roc_auc_score(y_test, predictions)}\")"
   ]
  }
 ],
 "metadata": {
  "kernelspec": {
   "display_name": "Python 3 (ipykernel)",
   "language": "python",
   "name": "python3"
  },
  "language_info": {
   "codemirror_mode": {
    "name": "ipython",
    "version": 3
   },
   "file_extension": ".py",
   "mimetype": "text/x-python",
   "name": "python",
   "nbconvert_exporter": "python",
   "pygments_lexer": "ipython3",
   "version": "3.8.16"
  }
 },
 "nbformat": 4,
 "nbformat_minor": 5
}
